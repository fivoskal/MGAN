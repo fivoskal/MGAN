{
  "nbformat": 4,
  "nbformat_minor": 0,
  "metadata": {
    "accelerator": "GPU",
    "colab": {
      "name": "mgan",
      "provenance": [],
      "collapsed_sections": [],
      "include_colab_link": true
    },
    "kernelspec": {
      "display_name": "Python 3",
      "name": "python3"
    },
    "language_info": {
      "name": "python"
    }
  },
  "cells": [
    {
      "cell_type": "markdown",
      "metadata": {
        "id": "view-in-github",
        "colab_type": "text"
      },
      "source": [
        "<a href=\"https://colab.research.google.com/github/fivoskal/MGAN/blob/master/mgan.ipynb\" target=\"_parent\"><img src=\"https://colab.research.google.com/assets/colab-badge.svg\" alt=\"Open In Colab\"/></a>"
      ]
    },
    {
      "cell_type": "code",
      "metadata": {
        "id": "Shal16hsMZVH"
      },
      "source": [
        "# from google.colab import drive\n",
        "# drive.mount('/content/drive')\n",
        "\n",
        "# import pickle\n",
        "# %cd /content/drive/MyDrive/mgan-experiment"
      ],
      "execution_count": 1,
      "outputs": []
    },
    {
      "cell_type": "code",
      "metadata": {
        "id": "TiGaRsckhprT",
        "colab": {
          "base_uri": "https://localhost:8080/"
        },
        "outputId": "875a719b-d27e-43c6-b61b-cf85ffa2d9fb"
      },
      "source": [
        "%tensorflow_version 1.x\n",
        "!rm -rf MGAN"
      ],
      "execution_count": 2,
      "outputs": [
        {
          "output_type": "stream",
          "name": "stdout",
          "text": [
            "TensorFlow 1.x selected.\n"
          ]
        }
      ]
    },
    {
      "cell_type": "code",
      "metadata": {
        "id": "M92pWxAgUHF7"
      },
      "source": [
        "# import os\n",
        "# if os.getcwd()"
      ],
      "execution_count": 3,
      "outputs": []
    },
    {
      "cell_type": "code",
      "metadata": {
        "id": "bylds7QXh4Gj",
        "colab": {
          "base_uri": "https://localhost:8080/"
        },
        "outputId": "cfed8986-0b34-4ca3-843b-04c2d02955ff"
      },
      "source": [
        "# !git clone https://github.com/qhoangdl/MGAN.git\n",
        "!git clone https://github.com/fivoskal/MGAN.git\n",
        "!wget https://www.cs.toronto.edu/~kriz/cifar-10-python.tar.gz\n",
        "!tar -xvf /content/cifar-10-python.tar.gz\n",
        "# !git clone https://github.com/fivoskal/STL10.git"
      ],
      "execution_count": 4,
      "outputs": [
        {
          "output_type": "stream",
          "name": "stdout",
          "text": [
            "Cloning into 'MGAN'...\n",
            "remote: Enumerating objects: 64, done.\u001b[K\n",
            "remote: Counting objects: 100% (46/46), done.\u001b[K\n",
            "remote: Compressing objects: 100% (32/32), done.\u001b[K\n",
            "remote: Total 64 (delta 27), reused 30 (delta 14), pack-reused 18\u001b[K\n",
            "Unpacking objects: 100% (64/64), done.\n",
            "--2022-04-28 15:42:35--  https://www.cs.toronto.edu/~kriz/cifar-10-python.tar.gz\n",
            "Resolving www.cs.toronto.edu (www.cs.toronto.edu)... 128.100.3.30\n",
            "Connecting to www.cs.toronto.edu (www.cs.toronto.edu)|128.100.3.30|:443... connected.\n",
            "HTTP request sent, awaiting response... 200 OK\n",
            "Length: 170498071 (163M) [application/x-gzip]\n",
            "Saving to: ‘cifar-10-python.tar.gz’\n",
            "\n",
            "cifar-10-python.tar 100%[===================>] 162.60M  56.4MB/s    in 2.9s    \n",
            "\n",
            "2022-04-28 15:42:38 (56.4 MB/s) - ‘cifar-10-python.tar.gz’ saved [170498071/170498071]\n",
            "\n",
            "cifar-10-batches-py/\n",
            "cifar-10-batches-py/data_batch_4\n",
            "cifar-10-batches-py/readme.html\n",
            "cifar-10-batches-py/test_batch\n",
            "cifar-10-batches-py/data_batch_3\n",
            "cifar-10-batches-py/batches.meta\n",
            "cifar-10-batches-py/data_batch_2\n",
            "cifar-10-batches-py/data_batch_5\n",
            "cifar-10-batches-py/data_batch_1\n"
          ]
        }
      ]
    },
    {
      "cell_type": "code",
      "metadata": {
        "id": "KNMEZFSAUthf"
      },
      "source": [
        "# %cd STL10"
      ],
      "execution_count": 5,
      "outputs": []
    },
    {
      "cell_type": "code",
      "metadata": {
        "id": "z3r1Ge2vUvjP"
      },
      "source": [
        "# !python stl10_input.py"
      ],
      "execution_count": 6,
      "outputs": []
    },
    {
      "cell_type": "code",
      "metadata": {
        "colab": {
          "base_uri": "https://localhost:8080/"
        },
        "id": "IvHVFZe7UmEZ",
        "outputId": "5a6bf21d-bf31-43a1-f078-e7b875501280"
      },
      "source": [
        "%cd /content/MGAN\n",
        "!mkdir ./data"
      ],
      "execution_count": 7,
      "outputs": [
        {
          "output_type": "stream",
          "name": "stdout",
          "text": [
            "/content/MGAN\n"
          ]
        }
      ]
    },
    {
      "cell_type": "code",
      "metadata": {
        "id": "md_hmeX0s_c1",
        "colab": {
          "base_uri": "https://localhost:8080/"
        },
        "outputId": "1e99c3af-2689-4329-b27a-98d937558eca"
      },
      "source": [
        "import pickle\n",
        "from pathlib import Path\n",
        "import numpy as np\n",
        "from keras.datasets import cifar10\n",
        "\n",
        "(x_train, y_train), (x_test, y_test) = cifar10.load_data()\n",
        "with open('./data/cifar10_train.pkl','wb') as f:\n",
        "  pickle.dump({'data':x_train, 'labels':y_train}, f)"
      ],
      "execution_count": 8,
      "outputs": [
        {
          "output_type": "stream",
          "name": "stderr",
          "text": [
            "Using TensorFlow backend.\n"
          ]
        },
        {
          "output_type": "stream",
          "name": "stdout",
          "text": [
            "Downloading data from https://www.cs.toronto.edu/~kriz/cifar-10-python.tar.gz\n",
            "170500096/170498071 [==============================] - 2s 0us/step\n"
          ]
        }
      ]
    },
    {
      "cell_type": "code",
      "metadata": {
        "id": "3x2kmg1AtivJ",
        "colab": {
          "base_uri": "https://localhost:8080/"
        },
        "outputId": "aed0b5e4-b372-4f45-f27a-1b9a9431a489"
      },
      "source": [
        "!python main.py"
      ],
      "execution_count": null,
      "outputs": [
        {
          "output_type": "stream",
          "name": "stdout",
          "text": [
            "WARNING:tensorflow:\n",
            "The TensorFlow contrib module will not be included in TensorFlow 2.0.\n",
            "For more information, please see:\n",
            "  * https://github.com/tensorflow/community/blob/master/rfcs/20180907-contrib-sunset.md\n",
            "  * https://github.com/tensorflow/addons\n",
            "  * https://github.com/tensorflow/io (for I/O related ops)\n",
            "If you depend on functionality not listed there, please file an issue.\n",
            "\n",
            "WARNING:tensorflow:From main.py:68: The name tf.app.run is deprecated. Please use tf.compat.v1.app.run instead.\n",
            "\n",
            "WARNING:tensorflow:From /content/MGAN/models.py:65: The name tf.ConfigProto is deprecated. Please use tf.compat.v1.ConfigProto instead.\n",
            "\n",
            "W0428 15:43:00.898549 140074180503424 module_wrapper.py:139] From /content/MGAN/models.py:65: The name tf.ConfigProto is deprecated. Please use tf.compat.v1.ConfigProto instead.\n",
            "\n",
            "WARNING:tensorflow:From /content/MGAN/models.py:69: The name tf.Session is deprecated. Please use tf.compat.v1.Session instead.\n",
            "\n",
            "W0428 15:43:00.898999 140074180503424 module_wrapper.py:139] From /content/MGAN/models.py:69: The name tf.Session is deprecated. Please use tf.compat.v1.Session instead.\n",
            "\n",
            "2022-04-28 15:43:00.911123: I tensorflow/core/platform/profile_utils/cpu_utils.cc:94] CPU Frequency: 2299995000 Hz\n",
            "2022-04-28 15:43:00.912491: I tensorflow/compiler/xla/service/service.cc:168] XLA service 0x1307640 initialized for platform Host (this does not guarantee that XLA will be used). Devices:\n",
            "2022-04-28 15:43:00.912536: I tensorflow/compiler/xla/service/service.cc:176]   StreamExecutor device (0): Host, Default Version\n",
            "2022-04-28 15:43:00.916997: I tensorflow/stream_executor/platform/default/dso_loader.cc:44] Successfully opened dynamic library libcuda.so.1\n",
            "2022-04-28 15:43:01.099019: I tensorflow/stream_executor/cuda/cuda_gpu_executor.cc:983] successful NUMA node read from SysFS had negative value (-1), but there must be at least one NUMA node, so returning NUMA node zero\n",
            "2022-04-28 15:43:01.099996: I tensorflow/compiler/xla/service/service.cc:168] XLA service 0x1307b80 initialized for platform CUDA (this does not guarantee that XLA will be used). Devices:\n",
            "2022-04-28 15:43:01.100035: I tensorflow/compiler/xla/service/service.cc:176]   StreamExecutor device (0): Tesla K80, Compute Capability 3.7\n",
            "2022-04-28 15:43:01.101294: I tensorflow/stream_executor/cuda/cuda_gpu_executor.cc:983] successful NUMA node read from SysFS had negative value (-1), but there must be at least one NUMA node, so returning NUMA node zero\n",
            "2022-04-28 15:43:01.102060: I tensorflow/core/common_runtime/gpu/gpu_device.cc:1639] Found device 0 with properties: \n",
            "name: Tesla K80 major: 3 minor: 7 memoryClockRate(GHz): 0.8235\n",
            "pciBusID: 0000:00:04.0\n",
            "2022-04-28 15:43:01.119779: I tensorflow/stream_executor/platform/default/dso_loader.cc:44] Successfully opened dynamic library libcudart.so.10.1\n",
            "2022-04-28 15:43:01.313348: I tensorflow/stream_executor/platform/default/dso_loader.cc:44] Successfully opened dynamic library libcublas.so.10\n",
            "2022-04-28 15:43:01.401348: I tensorflow/stream_executor/platform/default/dso_loader.cc:44] Successfully opened dynamic library libcufft.so.10\n",
            "2022-04-28 15:43:01.422774: I tensorflow/stream_executor/platform/default/dso_loader.cc:44] Successfully opened dynamic library libcurand.so.10\n",
            "2022-04-28 15:43:01.618273: I tensorflow/stream_executor/platform/default/dso_loader.cc:44] Successfully opened dynamic library libcusolver.so.10\n",
            "2022-04-28 15:43:01.643933: I tensorflow/stream_executor/platform/default/dso_loader.cc:44] Successfully opened dynamic library libcusparse.so.10\n",
            "2022-04-28 15:43:01.968959: I tensorflow/stream_executor/platform/default/dso_loader.cc:44] Successfully opened dynamic library libcudnn.so.7\n",
            "2022-04-28 15:43:01.969197: I tensorflow/stream_executor/cuda/cuda_gpu_executor.cc:983] successful NUMA node read from SysFS had negative value (-1), but there must be at least one NUMA node, so returning NUMA node zero\n",
            "2022-04-28 15:43:01.970062: I tensorflow/stream_executor/cuda/cuda_gpu_executor.cc:983] successful NUMA node read from SysFS had negative value (-1), but there must be at least one NUMA node, so returning NUMA node zero\n",
            "2022-04-28 15:43:01.970853: I tensorflow/core/common_runtime/gpu/gpu_device.cc:1767] Adding visible gpu devices: 0\n",
            "2022-04-28 15:43:01.973785: I tensorflow/stream_executor/platform/default/dso_loader.cc:44] Successfully opened dynamic library libcudart.so.10.1\n",
            "2022-04-28 15:43:01.975580: I tensorflow/core/common_runtime/gpu/gpu_device.cc:1180] Device interconnect StreamExecutor with strength 1 edge matrix:\n",
            "2022-04-28 15:43:01.975624: I tensorflow/core/common_runtime/gpu/gpu_device.cc:1186]      0 \n",
            "2022-04-28 15:43:01.975652: I tensorflow/core/common_runtime/gpu/gpu_device.cc:1199] 0:   N \n",
            "2022-04-28 15:43:01.977658: I tensorflow/stream_executor/cuda/cuda_gpu_executor.cc:983] successful NUMA node read from SysFS had negative value (-1), but there must be at least one NUMA node, so returning NUMA node zero\n",
            "2022-04-28 15:43:01.978496: I tensorflow/stream_executor/cuda/cuda_gpu_executor.cc:983] successful NUMA node read from SysFS had negative value (-1), but there must be at least one NUMA node, so returning NUMA node zero\n",
            "2022-04-28 15:43:01.979244: I tensorflow/core/common_runtime/gpu/gpu_device.cc:1325] Created TensorFlow device (/job:localhost/replica:0/task:0/device:GPU:0 with 10813 MB memory) -> physical GPU (device: 0, name: Tesla K80, pci bus id: 0000:00:04.0, compute capability: 3.7)\n",
            "WARNING:tensorflow:From /content/MGAN/models.py:73: The name tf.set_random_seed is deprecated. Please use tf.compat.v1.set_random_seed instead.\n",
            "\n",
            "W0428 15:43:01.980334 140074180503424 module_wrapper.py:139] From /content/MGAN/models.py:73: The name tf.set_random_seed is deprecated. Please use tf.compat.v1.set_random_seed instead.\n",
            "\n",
            "WARNING:tensorflow:From /content/MGAN/models.py:79: The name tf.placeholder is deprecated. Please use tf.compat.v1.placeholder instead.\n",
            "\n",
            "W0428 15:43:01.985539 140074180503424 module_wrapper.py:139] From /content/MGAN/models.py:79: The name tf.placeholder is deprecated. Please use tf.compat.v1.placeholder instead.\n",
            "\n",
            "WARNING:tensorflow:From /content/MGAN/models.py:132: The name tf.variable_scope is deprecated. Please use tf.compat.v1.variable_scope instead.\n",
            "\n",
            "W0428 15:43:01.987203 140074180503424 module_wrapper.py:139] From /content/MGAN/models.py:132: The name tf.variable_scope is deprecated. Please use tf.compat.v1.variable_scope instead.\n",
            "\n",
            "WARNING:tensorflow:From /content/MGAN/ops.py:15: The name tf.get_variable is deprecated. Please use tf.compat.v1.get_variable instead.\n",
            "\n",
            "W0428 15:43:01.992547 140074180503424 module_wrapper.py:139] From /content/MGAN/ops.py:15: The name tf.get_variable is deprecated. Please use tf.compat.v1.get_variable instead.\n",
            "\n",
            "WARNING:tensorflow:From /tensorflow-1.15.2/python3.7/tensorflow_core/python/ops/nn_impl.py:183: where (from tensorflow.python.ops.array_ops) is deprecated and will be removed in a future version.\n",
            "Instructions for updating:\n",
            "Use tf.where in 2.0, which has the same broadcast rule as np.where\n",
            "W0428 15:43:02.804888 140074180503424 deprecation.py:323] From /tensorflow-1.15.2/python3.7/tensorflow_core/python/ops/nn_impl.py:183: where (from tensorflow.python.ops.array_ops) is deprecated and will be removed in a future version.\n",
            "Instructions for updating:\n",
            "Use tf.where in 2.0, which has the same broadcast rule as np.where\n",
            "WARNING:tensorflow:From /content/MGAN/models.py:187: The name tf.get_collection is deprecated. Please use tf.compat.v1.get_collection instead.\n",
            "\n",
            "W0428 15:43:02.838269 140074180503424 module_wrapper.py:139] From /content/MGAN/models.py:187: The name tf.get_collection is deprecated. Please use tf.compat.v1.get_collection instead.\n",
            "\n",
            "WARNING:tensorflow:From /content/MGAN/models.py:187: The name tf.GraphKeys is deprecated. Please use tf.compat.v1.GraphKeys instead.\n",
            "\n",
            "W0428 15:43:02.838494 140074180503424 module_wrapper.py:139] From /content/MGAN/models.py:187: The name tf.GraphKeys is deprecated. Please use tf.compat.v1.GraphKeys instead.\n",
            "\n",
            "WARNING:tensorflow:From /content/MGAN/models.py:188: The name tf.train.AdamOptimizer is deprecated. Please use tf.compat.v1.train.AdamOptimizer instead.\n",
            "\n",
            "W0428 15:43:02.839005 140074180503424 module_wrapper.py:139] From /content/MGAN/models.py:188: The name tf.train.AdamOptimizer is deprecated. Please use tf.compat.v1.train.AdamOptimizer instead.\n",
            "\n",
            "WARNING:tensorflow:From /content/MGAN/models.py:198: The name tf.global_variables_initializer is deprecated. Please use tf.compat.v1.global_variables_initializer instead.\n",
            "\n",
            "W0428 15:43:04.472346 140074180503424 module_wrapper.py:139] From /content/MGAN/models.py:198: The name tf.global_variables_initializer is deprecated. Please use tf.compat.v1.global_variables_initializer instead.\n",
            "\n",
            "WARNING:tensorflow:From /content/MGAN/models.py:199: The name tf.train.Saver is deprecated. Please use tf.compat.v1.train.Saver instead.\n",
            "\n",
            "W0428 15:43:07.711626 140074180503424 module_wrapper.py:139] From /content/MGAN/models.py:199: The name tf.train.Saver is deprecated. Please use tf.compat.v1.train.Saver instead.\n",
            "\n",
            "WARNING:tensorflow:From /content/MGAN/models.py:199: The name tf.trainable_variables is deprecated. Please use tf.compat.v1.trainable_variables instead.\n",
            "\n",
            "W0428 15:43:07.711962 140074180503424 module_wrapper.py:139] From /content/MGAN/models.py:199: The name tf.trainable_variables is deprecated. Please use tf.compat.v1.trainable_variables instead.\n",
            "\n",
            "2022-04-28 15:43:08.580938: I tensorflow/stream_executor/platform/default/dso_loader.cc:44] Successfully opened dynamic library libcublas.so.10\n",
            "2022-04-28 15:43:09.276304: I tensorflow/stream_executor/platform/default/dso_loader.cc:44] Successfully opened dynamic library libcudnn.so.7\n"
          ]
        }
      ]
    },
    {
      "cell_type": "code",
      "metadata": {
        "id": "U_Vk8w_XH40w"
      },
      "source": [
        "# parser.add_argument('--num_z', type=int, default=100,\n",
        "#                     help='Number of latent units.')\n",
        "# parser.add_argument('--beta', type=float, default=0.01,\n",
        "#                     help='Diversity parameter beta.')\n",
        "# parser.add_argument('--num_gens', type=int, default=10,\n",
        "#                     help='Number of generators.')\n",
        "# parser.add_argument('--d_batch_size', type=int, default=64,\n",
        "#                     help='Minibatch size for the discriminator.')\n",
        "# parser.add_argument('--g_batch_size', type=int, default=12,\n",
        "#                     help='Minibatch size for the generators.')\n",
        "# parser.add_argument('--z_prior', type=str, default=\"uniform\",\n",
        "#                     help='Prior distribution of the noise (uniform/gaussian).')\n",
        "# parser.add_argument('--learning_rate', type=float, default=0.0002,\n",
        "#                     help='Learning rate.')\n",
        "# parser.add_argument('--num_conv_layers', type=int, default=3,\n",
        "#                     help='Number of convolutional layers.')\n",
        "# parser.add_argument('--num_gen_feature_maps', type=int, default=128,\n",
        "#                     help='Number of feature maps of Generator.')\n",
        "# parser.add_argument('--num_dis_feature_maps', type=int, default=128,\n",
        "#                     help='Number of feature maps of Discriminator.')\n",
        "# parser.add_argument('--num_epochs', type=int, default=500,\n",
        "#                     help='Number of epochs.')\n",
        "# python main.py \n",
        "# --beta=1.0 \n",
        "# --num_conv_layers=5 \n",
        "# --dataset_file=stl10_train.pkl \n",
        "# --\n",
        "# --image_size 96 96 3\n",
        "\n",
        "# from models import MGAN\n",
        "\n",
        "# model = MGAN(\n",
        "#     num_z=100,\n",
        "#     beta=0.9,\n",
        "#     num_gens=10,\n",
        "#     d_batch_size=64,\n",
        "#     g_batch_size=12,\n",
        "#     z_prior=\"uniform\",\n",
        "#     learning_rate=0.00017,\n",
        "#     img_size=(96, 96, 3),\n",
        "#     num_conv_layers=5,\n",
        "#     num_gen_feature_maps=128,\n",
        "#     num_dis_feature_maps=128,\n",
        "#     num_epochs=500,\n",
        "#     sample_fp=\"samples/samples_{epoch:04d}.png\",\n",
        "#     sample_by_gen_fp=\"samples_by_gen/samples_{epoch:04d}.png\",\n",
        "#     random_seed=6789)"
      ],
      "execution_count": null,
      "outputs": []
    },
    {
      "cell_type": "code",
      "metadata": {
        "id": "X5hiE4fjeq9I"
      },
      "source": [
        "# model._init()\n",
        "# model._build_model()"
      ],
      "execution_count": null,
      "outputs": []
    },
    {
      "cell_type": "code",
      "metadata": {
        "id": "xXdfxIBREG_5"
      },
      "source": [
        "# model._restore('mgan_checkpoint_40')\n",
        "# image_size = [32, 32, 3]\n",
        "# model.num_epochs = 1\n",
        "# tmp = pickle.load(open( './data/stl10_train.pkl', \"rb\"))\n",
        "# x_train = tmp['data'].astype(np.float32).reshape([-1]+image_size ) / 127.5 - 1.\n",
        "# model.fit(x_train)"
      ],
      "execution_count": null,
      "outputs": []
    },
    {
      "cell_type": "code",
      "metadata": {
        "id": "6rLdvDisE7ch"
      },
      "source": [
        "# %matplotlib inline\n",
        "# import matplotlib.pyplot as plt"
      ],
      "execution_count": null,
      "outputs": []
    },
    {
      "cell_type": "code",
      "metadata": {
        "id": "goVZuHaSE_vp"
      },
      "source": [
        "# plt.imshow(z[12, ...])\n",
        "# plt.show()"
      ],
      "execution_count": null,
      "outputs": []
    },
    {
      "cell_type": "code",
      "metadata": {
        "colab": {
          "base_uri": "https://localhost:8080/"
        },
        "id": "KocqQZI6FAkf",
        "outputId": "12a0f4d0-564c-4802-c934-20c0f5b086ae"
      },
      "source": [
        "# !python main.py --beta=0.95 --num_conv_layers=5 --dataset_file=./data/cifar10_train.pkl --image_size 32 32 3  --num-generators 10 --learning_rate=0.00017"
      ],
      "execution_count": null,
      "outputs": [
        {
          "output_type": "stream",
          "name": "stdout",
          "text": [
            "WARNING:tensorflow:\n",
            "The TensorFlow contrib module will not be included in TensorFlow 2.0.\n",
            "For more information, please see:\n",
            "  * https://github.com/tensorflow/community/blob/master/rfcs/20180907-contrib-sunset.md\n",
            "  * https://github.com/tensorflow/addons\n",
            "  * https://github.com/tensorflow/io (for I/O related ops)\n",
            "If you depend on functionality not listed there, please file an issue.\n",
            "\n",
            "WARNING:tensorflow:From main.py:68: The name tf.app.run is deprecated. Please use tf.compat.v1.app.run instead.\n",
            "\n",
            "2\n",
            "WARNING:tensorflow:From /content/MGAN/models.py:65: The name tf.ConfigProto is deprecated. Please use tf.compat.v1.ConfigProto instead.\n",
            "\n",
            "W0428 15:16:18.285512 140686234826624 module_wrapper.py:139] From /content/MGAN/models.py:65: The name tf.ConfigProto is deprecated. Please use tf.compat.v1.ConfigProto instead.\n",
            "\n",
            "WARNING:tensorflow:From /content/MGAN/models.py:69: The name tf.Session is deprecated. Please use tf.compat.v1.Session instead.\n",
            "\n",
            "W0428 15:16:18.285901 140686234826624 module_wrapper.py:139] From /content/MGAN/models.py:69: The name tf.Session is deprecated. Please use tf.compat.v1.Session instead.\n",
            "\n",
            "2022-04-28 15:16:18.300390: I tensorflow/core/platform/profile_utils/cpu_utils.cc:94] CPU Frequency: 2299995000 Hz\n",
            "2022-04-28 15:16:18.302489: I tensorflow/compiler/xla/service/service.cc:168] XLA service 0x2091640 initialized for platform Host (this does not guarantee that XLA will be used). Devices:\n",
            "2022-04-28 15:16:18.302534: I tensorflow/compiler/xla/service/service.cc:176]   StreamExecutor device (0): Host, Default Version\n",
            "2022-04-28 15:16:18.307732: I tensorflow/stream_executor/platform/default/dso_loader.cc:44] Successfully opened dynamic library libcuda.so.1\n",
            "2022-04-28 15:16:18.488635: I tensorflow/stream_executor/cuda/cuda_gpu_executor.cc:983] successful NUMA node read from SysFS had negative value (-1), but there must be at least one NUMA node, so returning NUMA node zero\n",
            "2022-04-28 15:16:18.489540: I tensorflow/compiler/xla/service/service.cc:168] XLA service 0x2091b80 initialized for platform CUDA (this does not guarantee that XLA will be used). Devices:\n",
            "2022-04-28 15:16:18.489576: I tensorflow/compiler/xla/service/service.cc:176]   StreamExecutor device (0): Tesla K80, Compute Capability 3.7\n",
            "2022-04-28 15:16:18.490788: I tensorflow/stream_executor/cuda/cuda_gpu_executor.cc:983] successful NUMA node read from SysFS had negative value (-1), but there must be at least one NUMA node, so returning NUMA node zero\n",
            "2022-04-28 15:16:18.491452: I tensorflow/core/common_runtime/gpu/gpu_device.cc:1639] Found device 0 with properties: \n",
            "name: Tesla K80 major: 3 minor: 7 memoryClockRate(GHz): 0.8235\n",
            "pciBusID: 0000:00:04.0\n",
            "2022-04-28 15:16:18.507705: I tensorflow/stream_executor/platform/default/dso_loader.cc:44] Successfully opened dynamic library libcudart.so.10.1\n",
            "2022-04-28 15:16:18.693367: I tensorflow/stream_executor/platform/default/dso_loader.cc:44] Successfully opened dynamic library libcublas.so.10\n",
            "2022-04-28 15:16:18.774570: I tensorflow/stream_executor/platform/default/dso_loader.cc:44] Successfully opened dynamic library libcufft.so.10\n",
            "2022-04-28 15:16:18.794585: I tensorflow/stream_executor/platform/default/dso_loader.cc:44] Successfully opened dynamic library libcurand.so.10\n",
            "2022-04-28 15:16:18.994643: I tensorflow/stream_executor/platform/default/dso_loader.cc:44] Successfully opened dynamic library libcusolver.so.10\n",
            "2022-04-28 15:16:19.012887: I tensorflow/stream_executor/platform/default/dso_loader.cc:44] Successfully opened dynamic library libcusparse.so.10\n",
            "2022-04-28 15:16:19.358905: I tensorflow/stream_executor/platform/default/dso_loader.cc:44] Successfully opened dynamic library libcudnn.so.7\n",
            "2022-04-28 15:16:19.359165: I tensorflow/stream_executor/cuda/cuda_gpu_executor.cc:983] successful NUMA node read from SysFS had negative value (-1), but there must be at least one NUMA node, so returning NUMA node zero\n",
            "2022-04-28 15:16:19.360098: I tensorflow/stream_executor/cuda/cuda_gpu_executor.cc:983] successful NUMA node read from SysFS had negative value (-1), but there must be at least one NUMA node, so returning NUMA node zero\n",
            "2022-04-28 15:16:19.360778: I tensorflow/core/common_runtime/gpu/gpu_device.cc:1767] Adding visible gpu devices: 0\n",
            "2022-04-28 15:16:19.364203: I tensorflow/stream_executor/platform/default/dso_loader.cc:44] Successfully opened dynamic library libcudart.so.10.1\n",
            "2022-04-28 15:16:19.365919: I tensorflow/core/common_runtime/gpu/gpu_device.cc:1180] Device interconnect StreamExecutor with strength 1 edge matrix:\n",
            "2022-04-28 15:16:19.365955: I tensorflow/core/common_runtime/gpu/gpu_device.cc:1186]      0 \n",
            "2022-04-28 15:16:19.365975: I tensorflow/core/common_runtime/gpu/gpu_device.cc:1199] 0:   N \n",
            "2022-04-28 15:16:19.368087: I tensorflow/stream_executor/cuda/cuda_gpu_executor.cc:983] successful NUMA node read from SysFS had negative value (-1), but there must be at least one NUMA node, so returning NUMA node zero\n",
            "2022-04-28 15:16:19.369057: I tensorflow/stream_executor/cuda/cuda_gpu_executor.cc:983] successful NUMA node read from SysFS had negative value (-1), but there must be at least one NUMA node, so returning NUMA node zero\n",
            "2022-04-28 15:16:19.369777: I tensorflow/core/common_runtime/gpu/gpu_device.cc:1325] Created TensorFlow device (/job:localhost/replica:0/task:0/device:GPU:0 with 10813 MB memory) -> physical GPU (device: 0, name: Tesla K80, pci bus id: 0000:00:04.0, compute capability: 3.7)\n",
            "WARNING:tensorflow:From /content/MGAN/models.py:73: The name tf.set_random_seed is deprecated. Please use tf.compat.v1.set_random_seed instead.\n",
            "\n",
            "W0428 15:16:19.370832 140686234826624 module_wrapper.py:139] From /content/MGAN/models.py:73: The name tf.set_random_seed is deprecated. Please use tf.compat.v1.set_random_seed instead.\n",
            "\n",
            "WARNING:tensorflow:From /content/MGAN/models.py:79: The name tf.placeholder is deprecated. Please use tf.compat.v1.placeholder instead.\n",
            "\n",
            "W0428 15:16:19.375860 140686234826624 module_wrapper.py:139] From /content/MGAN/models.py:79: The name tf.placeholder is deprecated. Please use tf.compat.v1.placeholder instead.\n",
            "\n",
            "WARNING:tensorflow:From /content/MGAN/models.py:132: The name tf.variable_scope is deprecated. Please use tf.compat.v1.variable_scope instead.\n",
            "\n",
            "W0428 15:16:19.377646 140686234826624 module_wrapper.py:139] From /content/MGAN/models.py:132: The name tf.variable_scope is deprecated. Please use tf.compat.v1.variable_scope instead.\n",
            "\n",
            "WARNING:tensorflow:From /content/MGAN/ops.py:15: The name tf.get_variable is deprecated. Please use tf.compat.v1.get_variable instead.\n",
            "\n",
            "W0428 15:16:19.382980 140686234826624 module_wrapper.py:139] From /content/MGAN/ops.py:15: The name tf.get_variable is deprecated. Please use tf.compat.v1.get_variable instead.\n",
            "\n",
            "WARNING:tensorflow:From /tensorflow-1.15.2/python3.7/tensorflow_core/python/ops/nn_impl.py:183: where (from tensorflow.python.ops.array_ops) is deprecated and will be removed in a future version.\n",
            "Instructions for updating:\n",
            "Use tf.where in 2.0, which has the same broadcast rule as np.where\n",
            "W0428 15:16:20.424953 140686234826624 deprecation.py:323] From /tensorflow-1.15.2/python3.7/tensorflow_core/python/ops/nn_impl.py:183: where (from tensorflow.python.ops.array_ops) is deprecated and will be removed in a future version.\n",
            "Instructions for updating:\n",
            "Use tf.where in 2.0, which has the same broadcast rule as np.where\n",
            "WARNING:tensorflow:From /content/MGAN/models.py:187: The name tf.get_collection is deprecated. Please use tf.compat.v1.get_collection instead.\n",
            "\n",
            "W0428 15:16:20.452226 140686234826624 module_wrapper.py:139] From /content/MGAN/models.py:187: The name tf.get_collection is deprecated. Please use tf.compat.v1.get_collection instead.\n",
            "\n",
            "WARNING:tensorflow:From /content/MGAN/models.py:187: The name tf.GraphKeys is deprecated. Please use tf.compat.v1.GraphKeys instead.\n",
            "\n",
            "W0428 15:16:20.452466 140686234826624 module_wrapper.py:139] From /content/MGAN/models.py:187: The name tf.GraphKeys is deprecated. Please use tf.compat.v1.GraphKeys instead.\n",
            "\n",
            "WARNING:tensorflow:From /content/MGAN/models.py:188: The name tf.train.AdamOptimizer is deprecated. Please use tf.compat.v1.train.AdamOptimizer instead.\n",
            "\n",
            "W0428 15:16:20.453046 140686234826624 module_wrapper.py:139] From /content/MGAN/models.py:188: The name tf.train.AdamOptimizer is deprecated. Please use tf.compat.v1.train.AdamOptimizer instead.\n",
            "\n",
            "WARNING:tensorflow:From /content/MGAN/models.py:198: The name tf.global_variables_initializer is deprecated. Please use tf.compat.v1.global_variables_initializer instead.\n",
            "\n",
            "W0428 15:16:22.586628 140686234826624 module_wrapper.py:139] From /content/MGAN/models.py:198: The name tf.global_variables_initializer is deprecated. Please use tf.compat.v1.global_variables_initializer instead.\n",
            "\n",
            "WARNING:tensorflow:From /content/MGAN/models.py:199: The name tf.train.Saver is deprecated. Please use tf.compat.v1.train.Saver instead.\n",
            "\n",
            "W0428 15:16:27.521528 140686234826624 module_wrapper.py:139] From /content/MGAN/models.py:199: The name tf.train.Saver is deprecated. Please use tf.compat.v1.train.Saver instead.\n",
            "\n",
            "WARNING:tensorflow:From /content/MGAN/models.py:199: The name tf.trainable_variables is deprecated. Please use tf.compat.v1.trainable_variables instead.\n",
            "\n",
            "W0428 15:16:27.521903 140686234826624 module_wrapper.py:139] From /content/MGAN/models.py:199: The name tf.trainable_variables is deprecated. Please use tf.compat.v1.trainable_variables instead.\n",
            "\n",
            "2022-04-28 15:16:28.639533: I tensorflow/stream_executor/platform/default/dso_loader.cc:44] Successfully opened dynamic library libcublas.so.10\n",
            "2022-04-28 15:16:29.328764: I tensorflow/stream_executor/platform/default/dso_loader.cc:44] Successfully opened dynamic library libcudnn.so.7\n",
            "Traceback (most recent call last):\n",
            "  File \"main.py\", line 68, in <module>\n",
            "    tf.app.run(main=main, argv=[sys.argv[0]] + unparsed)\n",
            "  File \"/tensorflow-1.15.2/python3.7/tensorflow_core/python/platform/app.py\", line 40, in run\n",
            "    _run(main=main, argv=argv, flags_parser=_parse_flags_tolerate_undef)\n",
            "  File \"/usr/local/lib/python3.7/dist-packages/absl/app.py\", line 312, in run\n",
            "    _run_main(main, args)\n",
            "  File \"/usr/local/lib/python3.7/dist-packages/absl/app.py\", line 258, in _run_main\n",
            "    sys.exit(main(argv))\n",
            "  File \"main.py\", line 36, in main\n",
            "    model.fit(x_train)\n",
            "  File \"/content/MGAN/models.py\", line 218, in fit\n",
            "    feed_dict={self.x: x_batch, self.z: z_batch})\n",
            "  File \"/tensorflow-1.15.2/python3.7/tensorflow_core/python/client/session.py\", line 956, in run\n",
            "    run_metadata_ptr)\n",
            "  File \"/tensorflow-1.15.2/python3.7/tensorflow_core/python/client/session.py\", line 1180, in _run\n",
            "    feed_dict_tensor, options, run_metadata)\n",
            "  File \"/tensorflow-1.15.2/python3.7/tensorflow_core/python/client/session.py\", line 1359, in _do_run\n",
            "    run_metadata)\n",
            "  File \"/tensorflow-1.15.2/python3.7/tensorflow_core/python/client/session.py\", line 1365, in _do_call\n",
            "    return fn(*args)\n",
            "  File \"/tensorflow-1.15.2/python3.7/tensorflow_core/python/client/session.py\", line 1350, in _run_fn\n",
            "    target_list, run_metadata)\n",
            "  File \"/tensorflow-1.15.2/python3.7/tensorflow_core/python/client/session.py\", line 1443, in _call_tf_sessionrun\n",
            "    run_metadata)\n",
            "KeyboardInterrupt\n"
          ]
        }
      ]
    }
  ]
}